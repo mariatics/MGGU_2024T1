{
 "cells": [
  {
   "cell_type": "markdown",
   "id": "227884e3-916a-4a9a-b678-f277afb75438",
   "metadata": {},
   "source": [
    "### ejercicio 15\n",
    "##### Sociedad. En un estudio se desea conocer cuáles son los apellidos más comunes en México. Para ello se les preguntó a 100 personas su apellido y los resultados son los siguientes:"
   ]
  },
  {
   "cell_type": "code",
   "execution_count": null,
   "id": "e4e4cf27-1807-4efd-b084-841eb1b44cf7",
   "metadata": {},
   "outputs": [],
   "source": []
  }
 ],
 "metadata": {
  "kernelspec": {
   "display_name": "Python 3 (ipykernel)",
   "language": "python",
   "name": "python3"
  },
  "language_info": {
   "codemirror_mode": {
    "name": "ipython",
    "version": 3
   },
   "file_extension": ".py",
   "mimetype": "text/x-python",
   "name": "python",
   "nbconvert_exporter": "python",
   "pygments_lexer": "ipython3",
   "version": "3.11.4"
  }
 },
 "nbformat": 4,
 "nbformat_minor": 5
}
