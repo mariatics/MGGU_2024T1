{
 "cells": [
  {
   "cell_type": "code",
   "execution_count": 1,
   "id": "f73848e3-be6c-4db9-99c0-003205178818",
   "metadata": {},
   "outputs": [
    {
     "data": {
      "text/html": [
       "<center><table><tr><th style='border: 1px #ccc solid; text-align: center;'>Clase</th><th style='border: 1px #ccc solid; text-align: center;'>Fr</th><th style='border: 1px #ccc solid; text-align: center;'>Fr Ac</th></tr><tr><td style='border: 1px #ccc solid; text-align: center;'>ana</td><td style='border: 1px #ccc solid; text-align: center;'>16.666666666666668</td><td style='border: 1px #ccc solid; text-align: center;'>16.666666666666668</td></tr><tr><td style='border: 1px #ccc solid; text-align: center;'>juan</td><td style='border: 1px #ccc solid; text-align: center;'>16.666666666666668</td><td style='border: 1px #ccc solid; text-align: center;'>33.333333333333336</td></tr><tr><td style='border: 1px #ccc solid; text-align: center;'>juana</td><td style='border: 1px #ccc solid; text-align: center;'>3.3333333333333335</td><td style='border: 1px #ccc solid; text-align: center;'>36.66666666666667</td></tr><tr><td style='border: 1px #ccc solid; text-align: center;'>luisa</td><td style='border: 1px #ccc solid; text-align: center;'>13.333333333333334</td><td style='border: 1px #ccc solid; text-align: center;'>50.00000000000001</td></tr><tr><td style='border: 1px #ccc solid; text-align: center;'>maria</td><td style='border: 1px #ccc solid; text-align: center;'>20.0</td><td style='border: 1px #ccc solid; text-align: center;'>70.0</td></tr><tr><td style='border: 1px #ccc solid; text-align: center;'>pedro</td><td style='border: 1px #ccc solid; text-align: center;'>13.333333333333334</td><td style='border: 1px #ccc solid; text-align: center;'>83.33333333333333</td></tr><tr><td style='border: 1px #ccc solid; text-align: center;'>pepe</td><td style='border: 1px #ccc solid; text-align: center;'>16.666666666666668</td><td style='border: 1px #ccc solid; text-align: center;'>100.0</td></tr></table></center>"
      ],
      "text/plain": [
       "<IPython.core.display.HTML object>"
      ]
     },
     "metadata": {},
     "output_type": "display_data"
    }
   ],
   "source": [
    "import CodeBase.DatosCualitativos as dc\n",
    "\n",
    "datos = [\n",
    "    'Juan', 'maria', 'Pepe', 'ANA', 'Luisa', 'pedro', 'Maria', 'juan', 'ANA', 'pepe',\n",
    "    'luisa', 'PEDRO', 'MarIa', 'Juan', 'pepe', 'ana', 'MARIA', 'lUisA', 'Pedro', 'juana',\n",
    "    'MAria', 'JUAN', 'PEPE', 'anA', 'LuIsA', 'pedro', 'mARIA', 'JuAn', 'pEpE', 'Ana'\n",
    "]\n",
    "dc.mostrarTabla(datos)"
   ]
  }
 ],
 "metadata": {
  "kernelspec": {
   "display_name": "Python 3 (ipykernel)",
   "language": "python",
   "name": "python3"
  },
  "language_info": {
   "codemirror_mode": {
    "name": "ipython",
    "version": 3
   },
   "file_extension": ".py",
   "mimetype": "text/x-python",
   "name": "python",
   "nbconvert_exporter": "python",
   "pygments_lexer": "ipython3",
   "version": "3.11.4"
  }
 },
 "nbformat": 4,
 "nbformat_minor": 5
}
